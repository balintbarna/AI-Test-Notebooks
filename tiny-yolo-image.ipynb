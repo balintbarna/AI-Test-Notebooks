{
 "cells": [
  {
   "cell_type": "markdown",
   "metadata": {},
   "source": [
    "# Object detection demo\n",
    "This notebook shows an example of object detection of an image.\n",
    "The network that is used for inference is a variant of Tiny-Yolo, whose topology is illustrated in the following picture.\n",
    "The pynq colored layers have been quantized with 1 bit for weights and 3 bit for activations, and will be executed in the HW accelerator, while the other layers are executed in python.\n",
    "\n",
    "The image processing is performed within darknet by using python bindings.\n",
    "\n",
    "\n",
    "![TinierYolo topology](Tinier-YOLO-topology.svg)"
   ]
  },
  {
   "cell_type": "code",
   "execution_count": null,
   "metadata": {},
   "outputs": [],
   "source": [
    "import sys\n",
    "import os, platform\n",
    "import json\n",
    "import numpy as np\n",
    "import cv2\n",
    "import ctypes\n",
    "\n",
    "from PIL import Image\n",
    "from datetime import datetime\n",
    "\n",
    "\n",
    "import qnn\n",
    "from qnn import TinierYolo\n",
    "from qnn import utils \n",
    "sys.path.append(\"/opt/darknet/python/\")\n",
    "from darknet import *\n",
    "\n",
    "from matplotlib import pyplot as plt\n",
    "%matplotlib inline"
   ]
  },
  {
   "cell_type": "markdown",
   "metadata": {},
   "source": [
    "## 1. Instantiate a Classifier\n",
    "Creating a classifier will automatically download the bitstream onto the device. All other initializations are currently performed in the Darknet framework. "
   ]
  },
  {
   "cell_type": "code",
   "execution_count": null,
   "metadata": {},
   "outputs": [],
   "source": [
    "classifier = TinierYolo()\n",
    "classifier.init_accelerator()\n",
    "net = classifier.load_network(json_layer=\"/usr/local/lib/python3.6/dist-packages/qnn/params/tinier-yolo-layers.json\")\n",
    "\n",
    "conv0_weights = np.load('/usr/local/lib/python3.6/dist-packages/qnn/params/tinier-yolo-conv0-W.npy', encoding=\"latin1\", allow_pickle=True)\n",
    "conv0_weights_correct = np.transpose(conv0_weights, axes=(3, 2, 1, 0))\n",
    "conv8_weights = np.load('/usr/local/lib/python3.6/dist-packages/qnn/params/tinier-yolo-conv8-W.npy', encoding=\"latin1\", allow_pickle=True)\n",
    "conv8_weights_correct = np.transpose(conv8_weights, axes=(3, 2, 1, 0))\n",
    "conv0_bias = np.load('/usr/local/lib/python3.6/dist-packages/qnn/params/tinier-yolo-conv0-bias.npy', encoding=\"latin1\", allow_pickle=True)\n",
    "conv0_bias_broadcast = np.broadcast_to(conv0_bias[:,np.newaxis], (net['conv1']['input'][0],net['conv1']['input'][1]*net['conv1']['input'][1]))\n",
    "conv8_bias = np.load('/usr/local/lib/python3.6/dist-packages/qnn/params/tinier-yolo-conv8-bias.npy', encoding=\"latin1\", allow_pickle=True)\n",
    "conv8_bias_broadcast = np.broadcast_to(conv8_bias[:,np.newaxis], (125,13*13))\n",
    "file_name_cfg = c_char_p(\"/usr/local/lib/python3.6/dist-packages/qnn/params/tinier-yolo-bwn-3bit-relu-nomaxpool.cfg\".encode())\n",
    "\n",
    "net_darknet = lib.parse_network_cfg(file_name_cfg)"
   ]
  },
  {
   "cell_type": "markdown",
   "metadata": {},
   "source": [
    "## 2. Get object detection from input image\n",
    "\n",
    "\n",
    "The image to be run through object detection is loaded automatically from the path set in the *img_folder* variable. The original image is shown before processing and will be automatically selected as the last one downloaded (both variables *img_folder* and *image_name* can be modified to the desired path/image to be classified). \n",
    "\n",
    "The neural network has been trained on the [PASCAL VOC (Visual Object Classes)](http://host.robots.ox.ac.uk/pascal/VOC/) and is able to identify 20 classes of objects in an image, namely: \n",
    "* Person: person\n",
    "* Animal: bird, cat, cow, dog, horse, sheep\n",
    "* Vehicle: aeroplane, bicycle, boat, bus, car, motorbike, train\n",
    "* Indoor: bottle, chair, dining table, potted plant, sofa, tv/monitor"
   ]
  },
  {
   "cell_type": "code",
   "execution_count": null,
   "metadata": {},
   "outputs": [],
   "source": [
    "img_folder = './yoloimages/'\n",
    "img_file = os.path.join(img_folder, random.choice(os.listdir(img_folder)))\n",
    "file_name = c_char_p(img_file.encode())\n",
    "\n",
    "img = load_image(file_name,0,0)\n",
    "img_letterbox = letterbox_image(img,416,416)\n",
    "img_copy = np.copy(np.ctypeslib.as_array(img_letterbox.data, (3,416,416)))\n",
    "img_copy = np.swapaxes(img_copy, 0,2)\n",
    "free_image(img)\n",
    "free_image(img_letterbox)\n",
    "\n",
    "im = Image.open(img_file)\n",
    "im"
   ]
  },
  {
   "cell_type": "markdown",
   "metadata": {},
   "source": [
    "## 3. Execute the first convolutional layer in Python\n",
    "\n",
    "The first layer of this neural network has not been quantized, thus will not be executed in the HW accelerator (which supports only quantized arithmetic). Python provides, with numpy, a backend to execute convolution and other matrix operations. For user convenience the most popular operations (convolutional layer, thresholding, relu and fully connected layer) are provided in the utils class."
   ]
  },
  {
   "cell_type": "code",
   "execution_count": null,
   "metadata": {},
   "outputs": [],
   "source": [
    "start = datetime.now()\n",
    "img_copy = img_copy[np.newaxis, :, :, :]\n",
    "    \n",
    "conv0_ouput = utils.conv_layer(img_copy,conv0_weights_correct,b=conv0_bias_broadcast,stride=2,padding=1)\n",
    "conv0_output_quant = conv0_ouput.clip(0.0,4.0)\n",
    "conv0_output_quant = utils.quantize(conv0_output_quant/4,3)\n",
    "end = datetime.now()\n",
    "micros = int((end - start).total_seconds() * 1000000)\n",
    "print(\"First layer SW implementation took {} microseconds\".format(micros))\n",
    "print(micros, file=open('timestamp.txt', 'w'))"
   ]
  },
  {
   "cell_type": "markdown",
   "metadata": {},
   "source": [
    "## 4. HW Offload of the quantized layers\n",
    "\n",
    "The core layers, which values have been quantized during training, are executed in the Programmable Logic. The hardware accelerator consists of a dataflow implementation of multiple layers (in this case, convolution+maxpool). The host code parses the network topology (specified in the json file) and manages the sequence of execution on the accelerator."
   ]
  },
  {
   "cell_type": "code",
   "execution_count": null,
   "metadata": {},
   "outputs": [],
   "source": [
    "out_dim = net['conv7']['output'][1]\n",
    "out_ch = net['conv7']['output'][0]\n",
    "\n",
    "conv_output = classifier.get_accel_buffer(out_ch, out_dim)\n",
    "conv_input = classifier.prepare_buffer(conv0_output_quant*7);\n",
    "\n",
    "start = datetime.now()\n",
    "classifier.inference(conv_input, conv_output)\n",
    "end = datetime.now()\n",
    "\n",
    "conv7_out = classifier.postprocess_buffer(conv_output)\n",
    "\n",
    "micros = int((end - start).total_seconds() * 1000000)\n",
    "print(\"HW implementation took {} microseconds\".format(micros))\n",
    "print(micros, file=open('timestamp.txt', 'a'))"
   ]
  },
  {
   "cell_type": "markdown",
   "metadata": {},
   "source": [
    "## 5. Execute the last convolutional layer in Python"
   ]
  },
  {
   "cell_type": "code",
   "execution_count": null,
   "metadata": {},
   "outputs": [],
   "source": [
    "start = datetime.now()\n",
    "conv7_out_reshaped = conv7_out.reshape(out_dim,out_dim,out_ch)\n",
    "conv7_out_swapped = np.swapaxes(conv7_out_reshaped, 0, 1) # exp 1\n",
    "conv7_out_swapped = conv7_out_swapped[np.newaxis, :, :, :] \n",
    "\n",
    "conv8_output = utils.conv_layer(conv7_out_swapped,conv8_weights_correct,b=conv8_bias_broadcast,stride=1)  \n",
    "conv8_out = conv8_output.ctypes.data_as(ctypes.POINTER(ctypes.c_float))\n",
    "\n",
    "end = datetime.now()\n",
    "micros = int((end - start).total_seconds() * 1000000)\n",
    "print(\"Last layer SW implementation took {} microseconds\".format(micros))\n",
    "print(micros, file=open('timestamp.txt', 'a'))"
   ]
  },
  {
   "cell_type": "markdown",
   "metadata": {},
   "source": [
    "## 6. Draw detection boxes using Darknet\n",
    "\n",
    "The image postprocessing (drawing the bounding boxes) is performed in darknet using python bindings."
   ]
  },
  {
   "cell_type": "code",
   "execution_count": null,
   "metadata": {},
   "outputs": [],
   "source": [
    "lib.forward_region_layer_pointer_nolayer(net_darknet,conv8_out)\n",
    "tresh = c_float(0.3)\n",
    "tresh_hier = c_float(0.5)\n",
    "file_name_out = c_char_p(\"/home/xilinx/jupyter_notebooks/qnn/detection\".encode())\n",
    "file_name_probs = c_char_p(\"/home/xilinx/jupyter_notebooks/qnn/probabilities.txt\".encode())\n",
    "file_names_voc = c_char_p(\"/opt/darknet/data/voc.names\".encode())\n",
    "darknet_path = c_char_p(\"/opt/darknet/\".encode())\n",
    "lib.draw_detection_python(net_darknet, file_name, tresh, tresh_hier,file_names_voc, darknet_path, file_name_out, file_name_probs);\n",
    "\n",
    "#Print probabilities\n",
    "file_content = open(file_name_probs.value,\"r\").read().splitlines()\n",
    "detections = []\n",
    "for line in file_content[0:]:\n",
    "    name, probability = line.split(\": \")\n",
    "    detections.append((probability, name))\n",
    "for det in sorted(detections, key=lambda tup: tup[0], reverse=True):\n",
    "    print(\"class: {}\\tprobability: {}\".format(det[1], det[0]))"
   ]
  },
  {
   "cell_type": "markdown",
   "metadata": {},
   "source": [
    "## 7. Show the result\n",
    "\n",
    "The classified image is shown in the notebook. The bounding boxes are drawn on top of the original image, showing the detected objects and their position."
   ]
  },
  {
   "cell_type": "code",
   "execution_count": null,
   "metadata": {},
   "outputs": [],
   "source": [
    "res = Image.open(file_name_out.value.decode() + \".png\")\n",
    "res"
   ]
  },
  {
   "cell_type": "markdown",
   "metadata": {},
   "source": [
    "## 8. Performance analysis\n",
    "\n",
    "The execution in mixed SW-HW design is profiled, and the performances in terms of latency and throughput are analysed and shown in the graph"
   ]
  },
  {
   "cell_type": "code",
   "execution_count": null,
   "metadata": {},
   "outputs": [],
   "source": [
    "array = np.loadtxt('timestamp.txt')\n",
    "array = list(map(lambda x: x/1000000, array))\n",
    "\n",
    "MOPS=[171.3254,4385.99]\n",
    "TIME=[array[0]+array[2],array[1]]\n",
    "LABELS=[\"SW\", \"HW\"]\n",
    "\n",
    "f, ((ax1, ax2, ax3)) = plt.subplots(1, 3, sharex='col', sharey='row', figsize=(15,2))\n",
    "x_pos = np.arange(len(LABELS))\n",
    "\n",
    "plt.yticks(x_pos, LABELS)\n",
    "ax1.invert_yaxis()\n",
    "ax1.set_xlabel(\"Execution Time [ms]\")\n",
    "ax1.set_ylabel(\"Platform\")\n",
    "ax1.barh(x_pos, TIME, height=0.6, color='g', zorder=3)\n",
    "ax1.grid(zorder=0)\n",
    "\n",
    "ax2.invert_yaxis()\n",
    "ax2.set_xlabel(\"# of Operations [MOPS]\")\n",
    "ax2.barh(x_pos, MOPS, height=0.6, color='y', zorder=3)\n",
    "ax2.grid(zorder=0)\n",
    "\n",
    "MOPSS=[MOPS[i]/TIME[i] for i in range(len(MOPS))]\n",
    "x_pos = np.arange(len(LABELS))\n",
    "ax3.barh(x_pos, MOPSS, height=0.6, color='r', zorder=3)\n",
    "ax3.invert_yaxis()\n",
    "ax3.set_xlabel(\"Performances [MOPS/s]\")\n",
    "ax3.grid(zorder=0)\n",
    "plt.show()"
   ]
  },
  {
   "cell_type": "markdown",
   "metadata": {},
   "source": [
    "## Reset the device"
   ]
  },
  {
   "cell_type": "code",
   "execution_count": null,
   "metadata": {},
   "outputs": [],
   "source": [
    "classifier.deinit_accelerator()"
   ]
  },
  {
   "cell_type": "code",
   "execution_count": null,
   "metadata": {},
   "outputs": [],
   "source": [
    "from pynq import Xlnk\n",
    "\n",
    "xlnk = Xlnk();\n",
    "xlnk.xlnk_reset()"
   ]
  }
 ],
 "metadata": {
  "kernelspec": {
   "display_name": "Python 3",
   "language": "python",
   "name": "python3"
  },
  "language_info": {
   "codemirror_mode": {
    "name": "ipython",
    "version": 3
   },
   "file_extension": ".py",
   "mimetype": "text/x-python",
   "name": "python",
   "nbconvert_exporter": "python",
   "pygments_lexer": "ipython3",
   "version": "3.6.9"
  }
 },
 "nbformat": 4,
 "nbformat_minor": 4
}

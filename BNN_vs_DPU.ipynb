{
 "cells": [
  {
   "cell_type": "markdown",
   "metadata": {},
   "source": [
    "# BNN Setup"
   ]
  },
  {
   "cell_type": "code",
   "execution_count": null,
   "metadata": {},
   "outputs": [],
   "source": [
    "import bnn\n",
    "print(bnn.available_params(bnn.NETWORK_LFCW1A1))"
   ]
  },
  {
   "cell_type": "code",
   "execution_count": null,
   "metadata": {},
   "outputs": [],
   "source": [
    "hw_classifier = bnn.LfcClassifier(bnn.NETWORK_LFCW1A1,\"mnist\",bnn.RUNTIME_HW)\n",
    "sw_classifier = bnn.LfcClassifier(bnn.NETWORK_LFCW1A1,\"mnist\",bnn.RUNTIME_SW)\n",
    "print(hw_classifier.classes)"
   ]
  },
  {
   "cell_type": "code",
   "execution_count": null,
   "metadata": {},
   "outputs": [],
   "source": [
    "import cv2\n",
    "import mnist\n",
    "import numpy as np\n",
    "\n",
    "test_data = mnist.test_images()\n",
    "test_label = mnist.test_labels()\n",
    "\n",
    "test_data.shape"
   ]
  },
  {
   "cell_type": "code",
   "execution_count": null,
   "metadata": {},
   "outputs": [],
   "source": [
    "import matplotlib.pyplot as plt\n",
    "plt.imshow(test_data[1,:,:], 'gray')\n",
    "plt.title('Label: {}'.format(test_label[1]))\n",
    "plt.axis('off')\n",
    "plt.show()"
   ]
  },
  {
   "cell_type": "markdown",
   "metadata": {},
   "source": [
    "## Convert to BNN input format\n",
    "The image is resized to comply with the MNIST standard. The image is resized at 28x28 pixels and the colors inverted. "
   ]
  },
  {
   "cell_type": "code",
   "execution_count": null,
   "metadata": {},
   "outputs": [],
   "source": [
    "from array import *\n",
    "from PIL import Image as PIL_Image\n",
    "from PIL import ImageOps\n",
    "img_load = PIL_Image.fromarray(test_data[1,:,:])\n",
    "img_load"
   ]
  },
  {
   "cell_type": "code",
   "execution_count": null,
   "metadata": {},
   "outputs": [],
   "source": [
    "data_image = array('B')  \n",
    "  \n",
    "pixel = img_load.load()  \n",
    "for x in range(0,28):  \n",
    "    for y in range(0,28):  \n",
    "        if(pixel[y,x] > 127):  \n",
    "            data_image.append(255)  \n",
    "        else:  \n",
    "            data_image.append(1)  \n",
    "          \n",
    "# Setting up the header of the MNIST format file - Required as the hardware is designed for MNIST dataset         \n",
    "hexval = \"{0:#0{1}x}\".format(1,6)  \n",
    "header = array('B')  \n",
    "header.extend([0,0,8,1,0,0])  \n",
    "header.append(int('0x'+hexval[2:][:2],16))  \n",
    "header.append(int('0x'+hexval[2:][2:],16))  \n",
    "header.extend([0,0,0,28,0,0,0,28])  \n",
    "header[3] = 3 # Changing MSB for image data (0x00000803)  \n",
    "data_image = header + data_image  \n",
    "output_file = open('/home/xilinx/mnist_img_proc', 'wb')  \n",
    "data_image.tofile(output_file)  \n",
    "output_file.close()"
   ]
  },
  {
   "cell_type": "markdown",
   "metadata": {},
   "source": [
    "## Launching BNN in hardware\n",
    "\n",
    "The image is passed in the PL and the inference is performed. Use `classify_mnist` to classify a single mnist formatted picture."
   ]
  },
  {
   "cell_type": "code",
   "execution_count": null,
   "metadata": {},
   "outputs": [],
   "source": [
    "class_out = hw_classifier.classify_mnist(\"/home/xilinx/mnist_img_proc\")\n",
    "print(\"Class number: {0}\".format(class_out))\n",
    "print(\"Class name: {0}\".format(hw_classifier.class_name(class_out)))\n",
    "print(\"correct\" if class_out == test_label[1] else \"fail\")"
   ]
  },
  {
   "cell_type": "markdown",
   "metadata": {},
   "source": [
    "## Launching BNN in software\n",
    "The inference on the same image is performed in sofware on the ARM core"
   ]
  },
  {
   "cell_type": "code",
   "execution_count": null,
   "metadata": {},
   "outputs": [],
   "source": [
    "class_out=sw_classifier.classify_mnist(\"/home/xilinx/mnist_img_proc\")\n",
    "print(\"Class number: {0}\".format(class_out))\n",
    "print(\"Class name: {0}\".format(hw_classifier.class_name(class_out)))\n",
    "print(\"correct\" if class_out == test_label[1] else \"fail\")"
   ]
  },
  {
   "cell_type": "markdown",
   "metadata": {},
   "source": [
    "## Do the same in a loop"
   ]
  },
  {
   "cell_type": "code",
   "execution_count": null,
   "metadata": {},
   "outputs": [],
   "source": [
    "import sys, os\n",
    "\n",
    "# Disable\n",
    "current_stdout = sys.stdout\n",
    "def blockPrint():\n",
    "    sys.stdout = open(os.devnull, 'w')\n",
    "\n",
    "# Restore\n",
    "def enablePrint():\n",
    "    sys.stdout.flush()\n",
    "    sys.stdout = current_stdout\n",
    "\n",
    "def classify_img(index):\n",
    "    img_load = PIL_Image.fromarray(test_data[index,:,:])\n",
    "    data_image = array('B')  \n",
    "  \n",
    "    pixel = img_load.load()  \n",
    "    for x in range(0,28):  \n",
    "        for y in range(0,28):  \n",
    "            if(pixel[y,x] > 127):  \n",
    "                data_image.append(255)  \n",
    "            else:  \n",
    "                data_image.append(1)  \n",
    "          \n",
    "    # Setting up the header of the MNIST format file - Required as the hardware is designed for MNIST dataset         \n",
    "    hexval = \"{0:#0{1}x}\".format(1,6)  \n",
    "    header = array('B')  \n",
    "    header.extend([0,0,8,1,0,0])  \n",
    "    header.append(int('0x'+hexval[2:][:2],16))  \n",
    "    header.append(int('0x'+hexval[2:][2:],16))  \n",
    "    header.extend([0,0,0,28,0,0,0,28])  \n",
    "    header[3] = 3 # Changing MSB for image data (0x00000803)  \n",
    "    data_image = header + data_image  \n",
    "    output_file = open('/home/xilinx/mnist_img_proc', 'wb')  \n",
    "    data_image.tofile(output_file)  \n",
    "    output_file.close()\n",
    "    class_out = hw_classifier.classify_mnist(\"/home/xilinx/mnist_img_proc\")\n",
    "    correct = class_out == test_label[index]\n",
    "    return correct\n",
    "    \n",
    "\n",
    "from time import time\n",
    "correct_cnt = 0\n",
    "blockPrint()\n",
    "start_time = time()\n",
    "for i in range(0, len(test_data)):\n",
    "    if (classify_img(i)):\n",
    "        correct_cnt = correct_cnt + 1\n",
    "end_time = time()\n",
    "enablePrint()\n",
    "execution_time = end_time - start_time\n",
    "total = len(test_data)\n",
    "print(\"Overall accuracy: {}\".format(correct_cnt/total))\n",
    "print(\"  Execution time: {:.4f}s\".format(execution_time))\n",
    "print(\"      Throughput: {:.4f}FPS\".format(total/execution_time))"
   ]
  },
  {
   "cell_type": "markdown",
   "metadata": {},
   "source": [
    "## Reset the device and the notebook"
   ]
  },
  {
   "cell_type": "code",
   "execution_count": null,
   "metadata": {},
   "outputs": [],
   "source": [
    "from pynq import Xlnk\n",
    "\n",
    "xlnk = Xlnk()\n",
    "xlnk.xlnk_reset()\n",
    "%reset"
   ]
  },
  {
   "cell_type": "markdown",
   "metadata": {},
   "source": [
    "# DPU"
   ]
  },
  {
   "cell_type": "code",
   "execution_count": null,
   "metadata": {},
   "outputs": [],
   "source": [
    "from pynq_dpu import DpuOverlay\n",
    "from time import time\n",
    "import numpy as np\n",
    "import mnist\n",
    "from dnndk import n2cube\n",
    "import matplotlib.pyplot as plt\n",
    "\n",
    "overlay = DpuOverlay(\"dpu.bit\")\n",
    "overlay.load_model(\"dpu_mnist_classifier_0.elf\")\n",
    "\n",
    "raw_data = mnist.test_images()\n",
    "normalized_data = np.asarray(raw_data/255, dtype=np.float32)\n",
    "test_data = np.expand_dims(normalized_data, axis=3)\n",
    "test_label = mnist.test_labels()\n",
    "\n",
    "print(\"Total number of test images: {}\".format(test_data.shape[0]))\n",
    "print(\"  Dimension of each picture: {}x{}\".format(test_data.shape[1],\n",
    "                                                  test_data.shape[2]))"
   ]
  },
  {
   "cell_type": "code",
   "execution_count": null,
   "metadata": {},
   "outputs": [],
   "source": [
    "plt.imshow(test_data[1,:,:,0], 'gray')\n",
    "plt.title('Label: {}'.format(test_label[1]))\n",
    "plt.axis('off')\n",
    "plt.show()"
   ]
  },
  {
   "cell_type": "code",
   "execution_count": null,
   "metadata": {},
   "outputs": [],
   "source": [
    "KERNEL_NAME = \"mnist_classifier_0\"\n",
    "KERNEL_CONV_INPUT = \"conv2d_1_convolution\"\n",
    "KERNEL_FC_OUTPUT = \"output_logits_MatMul\"\n",
    "\n",
    "n2cube.dpuOpen()\n",
    "kernel = n2cube.dpuLoadKernel(KERNEL_NAME)\n",
    "task = n2cube.dpuCreateTask(kernel, 0)\n",
    "input_len = n2cube.dpuGetInputTensorSize(task, KERNEL_CONV_INPUT)\n",
    "size = n2cube.dpuGetOutputTensorSize(task, KERNEL_FC_OUTPUT)\n",
    "channel = n2cube.dpuGetOutputTensorChannel(task, KERNEL_FC_OUTPUT)\n",
    "conf = n2cube.dpuGetOutputTensorAddress(task, KERNEL_FC_OUTPUT)\n",
    "outputScale = n2cube.dpuGetOutputTensorScale(task, KERNEL_FC_OUTPUT)"
   ]
  },
  {
   "cell_type": "markdown",
   "metadata": {},
   "source": [
    "### Trial run"
   ]
  },
  {
   "cell_type": "code",
   "execution_count": null,
   "metadata": {},
   "outputs": [],
   "source": [
    "num_pics  = 10\n",
    "fix, ax = plt.subplots(1, num_pics, figsize=(12,12))\n",
    "plt.tight_layout()\n",
    "for i in range(num_pics):\n",
    "    n2cube.dpuSetInputTensorInHWCFP32(task, KERNEL_CONV_INPUT, \n",
    "                                      test_data[i], input_len)\n",
    "    n2cube.dpuRunTask(task)\n",
    "    softmax = n2cube.dpuRunSoftmax(conf, channel, size//channel, outputScale)\n",
    "    prediction = softmax.argmax()\n",
    "\n",
    "    ax[i].set_title('Prediction: {}'.format(prediction))\n",
    "    ax[i].axis('off')\n",
    "    ax[i].imshow(test_data[i,:,:,0], 'gray')"
   ]
  },
  {
   "cell_type": "markdown",
   "metadata": {},
   "source": [
    "### All pictures"
   ]
  },
  {
   "cell_type": "code",
   "execution_count": null,
   "metadata": {},
   "outputs": [],
   "source": [
    "total = test_data.shape[0]\n",
    "predictions = np.empty_like(test_label)\n",
    "print(\"Classifying {} digit pictures ...\".format(total))\n",
    "\n",
    "start = time()\n",
    "for i in range(total):\n",
    "    n2cube.dpuSetInputTensorInHWCFP32(task, KERNEL_CONV_INPUT,\n",
    "                                      test_data[i], input_len)\n",
    "    n2cube.dpuRunTask(task)\n",
    "    softmax = n2cube.dpuRunSoftmax(conf, channel, size//channel, outputScale)\n",
    "    predictions[i] = softmax.argmax()\n",
    "stop = time()\n",
    "correct = np.sum(predictions==test_label)\n",
    "execution_time = stop-start\n",
    "print(\"Overall accuracy: {}\".format(correct/total))\n",
    "print(\"  Execution time: {:.4f}s\".format(execution_time))\n",
    "print(\"      Throughput: {:.4f}FPS\".format(total/execution_time))"
   ]
  },
  {
   "cell_type": "markdown",
   "metadata": {},
   "source": [
    "### Clean up"
   ]
  },
  {
   "cell_type": "code",
   "execution_count": null,
   "metadata": {},
   "outputs": [],
   "source": [
    "n2cube.dpuDestroyKernel(kernel)\n",
    "n2cube.dpuDestroyTask(task)\n",
    "%reset"
   ]
  }
 ],
 "metadata": {
  "celltoolbar": "Raw Cell Format",
  "kernelspec": {
   "display_name": "Python 3",
   "language": "python",
   "name": "python3"
  },
  "language_info": {
   "codemirror_mode": {
    "name": "ipython",
    "version": 3
   },
   "file_extension": ".py",
   "mimetype": "text/x-python",
   "name": "python",
   "nbconvert_exporter": "python",
   "pygments_lexer": "ipython3",
   "version": "3.6.9"
  }
 },
 "nbformat": 4,
 "nbformat_minor": 4
}
